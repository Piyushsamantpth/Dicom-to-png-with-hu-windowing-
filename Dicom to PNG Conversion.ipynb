{
 "cells": [
  {
   "cell_type": "code",
   "execution_count": 9,
   "metadata": {},
   "outputs": [],
   "source": [
    "import SimpleITK as sitk\n",
    "import os\n"
   ]
  },
  {
   "cell_type": "code",
   "execution_count": 17,
   "metadata": {},
   "outputs": [],
   "source": [
    "def save_image(image, window_center, window_width, input_file_path, output_folder):\n",
    "\n",
    "    # Create the intensity windowing filter with specified window center and width\n",
    "    img = sitk.IntensityWindowing(image,\n",
    "                                  windowMinimum=window_center - window_width / 2,\n",
    "                                  windowMaximum=window_center + window_width / 2,\n",
    "                                  outputMinimum=0.0,  # Scale output to 0 - 255\n",
    "                                  outputMaximum=255.0)\n",
    "    \n",
    "    # Ensure the output image is in unsigned char format for image type compatibility\n",
    "    img_uchar = sitk.Cast(img, sitk.sitkUInt8)\n",
    "    \n",
    "    # Define the output PNG file path\n",
    "    base_file_name = os.path.splitext(os.path.basename(input_file_path))[0] + '.png'\n",
    "    png_file_path = os.path.join(output_folder, base_file_name)\n",
    "\n",
    "    # Save the image as a PNG file\n",
    "    sitk.WriteImage(img_uchar, png_file_path)\n",
    "    print(f\"Image saved as {png_file_path}\")\n",
    "\n",
    "def process_dicom_folder(input_folder, output_folder, window_center, window_width):\n",
    "    \n",
    "    # Ensure the output folder exists\n",
    "    os.makedirs(output_folder, exist_ok=True)\n",
    "\n",
    "    # Iterate through all files in the input folder\n",
    "    for file_name in os.listdir(input_folder):\n",
    "        if file_name.lower().endswith('.dcm'):\n",
    "            file_path = os.path.join(input_folder, file_name)\n",
    "            image = sitk.ReadImage(file_path)\n",
    "            \n",
    "            # Explicitly log image type before and after casting\n",
    "            print(f\"Original Image Type: {image.GetPixelIDTypeAsString()}\")\n",
    "            save_image(image, window_center, window_width, file_path, output_folder)\n",
    "            print(\"Processing complete for:\", file_name)\n"
   ]
  },
  {
   "cell_type": "code",
   "execution_count": 18,
   "metadata": {},
   "outputs": [],
   "source": [
    "def process_dicom_folder(input_folder, output_folder, window_center, window_width):\n",
    "    # Ensure the output folder exists\n",
    "    os.makedirs(output_folder, exist_ok=True)\n",
    "\n",
    "    # Iterate through all files in the input folder\n",
    "    for file_name in os.listdir(input_folder):\n",
    "        if file_name.lower().endswith('.dcm'):\n",
    "            file_path = os.path.join(input_folder, file_name)\n",
    "            image = sitk.ReadImage(file_path)\n",
    "            # Explicitly log image type before and after casting\n",
    "            print(f\"Original Image Type: {image.GetPixelIDTypeAsString()}\")\n",
    "            save_image(image, window_center, window_width, file_path, output_folder)\n",
    "            print(\"Processing complete for:\", file_name)"
   ]
  },
  {
   "cell_type": "code",
   "execution_count": 19,
   "metadata": {},
   "outputs": [
    {
     "name": "stdout",
     "output_type": "stream",
     "text": [
      "Original Image Type: 16-bit signed integer\n",
      "Image saved as 0 PNG new conversion practice /172_STUDY001_SER002_CT00044.png\n",
      "Processing complete for: 172_STUDY001_SER002_CT00044.dcm\n",
      "Original Image Type: 16-bit signed integer\n",
      "Image saved as 0 PNG new conversion practice /172_STUDY001_SER002_CT00045.png\n",
      "Processing complete for: 172_STUDY001_SER002_CT00045.dcm\n",
      "Original Image Type: 16-bit signed integer\n",
      "Image saved as 0 PNG new conversion practice /171_STUDY002_SER003_CT00029.png\n",
      "Processing complete for: 171_STUDY002_SER003_CT00029.dcm\n",
      "Original Image Type: 16-bit signed integer\n",
      "Image saved as 0 PNG new conversion practice /173_STUDY002_SER003_CT00034.png\n",
      "Processing complete for: 173_STUDY002_SER003_CT00034.dcm\n"
     ]
    }
   ],
   "source": [
    "\n",
    "# Specify input and output directories\n",
    "input_folder = '0 Dicom images for practice '\n",
    "output_folder = '0 PNG new conversion practice '\n",
    "\n",
    "# Example windowing parameters\n",
    "window_center = -400  # The center of the window\n",
    "window_width = 1800   # The width of the window\n",
    "\n",
    "# Process all DICOM files in the folder\n",
    "process_dicom_folder(input_folder, output_folder, window_center, window_width)\n"
   ]
  },
  {
   "cell_type": "code",
   "execution_count": null,
   "metadata": {},
   "outputs": [],
   "source": []
  }
 ],
 "metadata": {
  "kernelspec": {
   "display_name": "tensorflow_venv",
   "language": "python",
   "name": "python3"
  },
  "language_info": {
   "codemirror_mode": {
    "name": "ipython",
    "version": 3
   },
   "file_extension": ".py",
   "mimetype": "text/x-python",
   "name": "python",
   "nbconvert_exporter": "python",
   "pygments_lexer": "ipython3",
   "version": "3.9.15"
  }
 },
 "nbformat": 4,
 "nbformat_minor": 2
}
